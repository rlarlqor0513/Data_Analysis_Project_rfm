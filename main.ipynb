{
 "cells": [
  {
   "cell_type": "code",
   "execution_count": 3,
   "id": "c28ff7ca-7807-40ad-af48-ab76a303375a",
   "metadata": {},
   "outputs": [
    {
     "name": "stdout",
     "output_type": "stream",
     "text": [
      "              차량운행          접수건          탑승건       평균대기시간         평균요금  \\\n",
      "count  2922.000000  2922.000000  2922.000000  2922.000000  2922.000000   \n",
      "mean    418.701916  3925.607803  3283.895277    40.305681  2304.272416   \n",
      "std     133.755162  1509.741713  1249.165876    14.098550   107.260080   \n",
      "min     132.000000   527.000000   462.000000    17.200000  2131.000000   \n",
      "25%     278.000000  2162.500000  1779.000000    29.600000  2228.000000   \n",
      "50%     454.000000  4720.500000  3932.500000    38.200000  2257.000000   \n",
      "75%     522.000000  5110.000000  4241.000000    48.600000  2400.750000   \n",
      "max    1413.000000  6182.000000  5189.000000    96.100000  2733.000000   \n",
      "\n",
      "             평균승차거리  \n",
      "count   2922.000000  \n",
      "mean    9253.500000  \n",
      "std     1019.198152  \n",
      "min     7672.000000  \n",
      "25%     8521.000000  \n",
      "50%     8821.500000  \n",
      "75%    10153.000000  \n",
      "max    14136.000000  \n"
     ]
    }
   ],
   "source": [
    "import pandas as pd\n",
    "\n",
    "# 데이터 불러오기\n",
    "df = pd.read_csv('open_data.csv')\n",
    "\n",
    "# 데이터 요약\n",
    "print(df.describe())"
   ]
  },
  {
   "cell_type": "code",
   "execution_count": null,
   "id": "f1b2e20a-973f-4260-a60d-912214102a7f",
   "metadata": {},
   "outputs": [],
   "source": []
  }
 ],
 "metadata": {
  "kernelspec": {
   "display_name": "Python 3 (ipykernel)",
   "language": "python",
   "name": "python3"
  },
  "language_info": {
   "codemirror_mode": {
    "name": "ipython",
    "version": 3
   },
   "file_extension": ".py",
   "mimetype": "text/x-python",
   "name": "python",
   "nbconvert_exporter": "python",
   "pygments_lexer": "ipython3",
   "version": "3.12.3"
  }
 },
 "nbformat": 4,
 "nbformat_minor": 5
}
